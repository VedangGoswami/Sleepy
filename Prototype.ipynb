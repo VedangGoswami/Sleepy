{
 "cells": [
  {
   "cell_type": "markdown",
   "metadata": {},
   "source": [
    "# PROTOTYPE "
   ]
  },
  {
   "cell_type": "code",
   "execution_count": 1,
   "metadata": {},
   "outputs": [],
   "source": [
    "import cv2\n",
    "import numpy as np\n",
    "import dlib\n",
    "from math import hypot\n",
    "import winsound\n",
    "import time\n",
    "from playsound import playsound"
   ]
  },
  {
   "cell_type": "code",
   "execution_count": 2,
   "metadata": {},
   "outputs": [],
   "source": [
    "def midpoint(p1, p2):\n",
    "    return int((p1.x + p2.x)/2), int((p1.y + p2.y)/2)"
   ]
  },
  {
   "cell_type": "code",
   "execution_count": 7,
   "metadata": {},
   "outputs": [],
   "source": [
    "cap = cv2.VideoCapture(0)\n",
    "fd = dlib.get_frontal_face_detector()\n",
    "predictor = dlib.shape_predictor(\"shape_predictor_68_face_landmarks.dat\")\n",
    "font = cv2.FONT_HERSHEY_TRIPLEX\n",
    "while(True):\n",
    "    ret,frame = cap.read()\n",
    "    gray = cv2.cvtColor(frame, cv2.COLOR_BGR2GRAY)\n",
    "    faces = fd(gray)\n",
    "    for face in faces:\n",
    "        x, y = face.left(), face.top()\n",
    "        x1, y1 = face.right(), face.bottom()\n",
    "        #cv2.rectangle(frame, (x, y), (x1, y1), (0, 255, 0), 2)\n",
    "        landmarks = predictor(gray, face)\n",
    "        #right eye\n",
    "        left_point = (landmarks.part(36).x, landmarks.part(36).y)\n",
    "        right_point = (landmarks.part(39).x, landmarks.part(39).y)\n",
    "        centre_top = midpoint(landmarks.part(37), landmarks.part(38))\n",
    "        centre_bottom = midpoint(landmarks.part(41), landmarks.part(40))\n",
    "        #left eye\n",
    "        left_point2 = (landmarks.part(42).x, landmarks.part(42).y)\n",
    "        right_point2 = (landmarks.part(45).x, landmarks.part(45).y)\n",
    "        centre_top2 = midpoint(landmarks.part(43), landmarks.part(44))\n",
    "        centre_bottom2 = midpoint(landmarks.part(47), landmarks.part(46))\n",
    "        '''\n",
    "        hor_line = cv2.line(frame, left_point, right_point, (0, 255, 0), 2)\n",
    "        ver_line = cv2.line(frame, centre_top, centre_bottom, (0,255,0), 2)\n",
    "        \n",
    "        hor_line2 = cv2.line(frame, left_point2, right_point2, (0, 255, 0), 2)\n",
    "        ver_line2 = cv2.line(frame, centre_top2, centre_bottom2, (0,255,0), 2)\n",
    "        '''\n",
    "        hor_line_length = hypot ((left_point[0] - right_point[0]), (left_point[1] - right_point[1]))\n",
    "        ver_line_length = hypot ((centre_top[0] - centre_bottom[0]), (centre_top[1] - centre_bottom[1]))\n",
    "        \n",
    "        hor_line_length2 = hypot ((left_point2[0] - right_point2[0]), (left_point2[1] - right_point2[1]))\n",
    "        ver_line_length2 = hypot ((centre_top2[0] - centre_bottom2[0]), (centre_top2[1] - centre_bottom2[1]))\n",
    "        \n",
    "        ratio = hor_line_length2/ver_line_length2\n",
    "        if ratio > 5.4:\n",
    "            cv2.putText(frame, \"Sleepyhead\", (130, 120), font, 2, (0, 0, 255))\n",
    "            cv2.putText(frame, \"WAKE UP!\", (150,450), font, 2, (0,0,255))\n",
    "            time.sleep(1)\n",
    "            playsound(\"Wake-up.wav\")\n",
    "    cv2.imshow('output', frame)\n",
    "    key = cv2.waitKey(1)\n",
    "    if key == 27:\n",
    "        break\n",
    "cap.release()\n",
    "cv2.destroyAllWindows()"
   ]
  },
  {
   "cell_type": "code",
   "execution_count": null,
   "metadata": {},
   "outputs": [],
   "source": []
  }
 ],
 "metadata": {
  "kernelspec": {
   "display_name": "Python 3",
   "language": "python",
   "name": "python3"
  },
  "language_info": {
   "codemirror_mode": {
    "name": "ipython",
    "version": 3
   },
   "file_extension": ".py",
   "mimetype": "text/x-python",
   "name": "python",
   "nbconvert_exporter": "python",
   "pygments_lexer": "ipython3",
   "version": "3.8.5"
  }
 },
 "nbformat": 4,
 "nbformat_minor": 4
}
